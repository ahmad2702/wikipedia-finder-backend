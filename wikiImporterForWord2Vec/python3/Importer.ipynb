{
 "cells": [
  {
   "cell_type": "code",
   "execution_count": 1,
   "metadata": {},
   "outputs": [],
   "source": [
    "import os\n",
    "from xml.dom import minidom\n",
    "import Wiki2Text\n",
    "\n",
    "from cassandra.cluster import Cluster\n",
    "from cassandra.auth import PlainTextAuthProvider\n",
    "from cassandra.cluster import SimpleStatement"
   ]
  },
  {
   "cell_type": "code",
   "execution_count": 2,
   "metadata": {},
   "outputs": [],
   "source": [
    "current_path = os.getcwd()"
   ]
  },
  {
   "cell_type": "code",
   "execution_count": 3,
   "metadata": {},
   "outputs": [],
   "source": [
    "xml_file = \"first_100k.xml\""
   ]
  },
  {
   "cell_type": "code",
   "execution_count": 4,
   "metadata": {},
   "outputs": [],
   "source": [
    "server = ['hadoop05.f4.htw-berlin.de']\n",
    "port = '9042' \n",
    "login = '' # hier dein cassandra login\n",
    "pw = '' # hier dein cassandra password\n",
    "\n",
    "keyspace = 'wiki_word2vec'"
   ]
  },
  {
   "cell_type": "code",
   "execution_count": 5,
   "metadata": {},
   "outputs": [],
   "source": [
    "auth_provider = PlainTextAuthProvider(username=login, password=pw)"
   ]
  },
  {
   "cell_type": "code",
   "execution_count": 6,
   "metadata": {},
   "outputs": [],
   "source": [
    "cluster = Cluster(contact_points=server, port=port, auth_provider=auth_provider)\n",
    "session = cluster.connect(keyspace)"
   ]
  },
  {
   "cell_type": "code",
   "execution_count": 7,
   "metadata": {},
   "outputs": [
    {
     "data": {
      "text/plain": [
       "385"
      ]
     },
     "execution_count": 7,
     "metadata": {},
     "output_type": "execute_result"
    }
   ],
   "source": [
    "xmldoc = minidom.parse(current_path + '/' + xml_file)\n",
    "pageList = xmldoc.getElementsByTagName('page')\n",
    "len(pageList)"
   ]
  },
  {
   "cell_type": "code",
   "execution_count": 8,
   "metadata": {},
   "outputs": [],
   "source": [
    "id_number = 1\n",
    "\n",
    "def getNewId():\n",
    "    result = id_number\n",
    "    id_number += 1\n",
    "    return result"
   ]
  },
  {
   "cell_type": "code",
   "execution_count": 9,
   "metadata": {},
   "outputs": [],
   "source": [
    "table = 'id_title_sentence'\n",
    "\n",
    "session.execute(\"\"\"\n",
    "        CREATE TABLE IF NOT EXISTS \"\"\"+ table +\"\"\" (\n",
    "            id UUID PRIMARY KEY,\n",
    "            page_id INT,\n",
    "            page_title text,\n",
    "            page_sentence text\n",
    "        )\n",
    "        \"\"\")\n",
    "\n",
    "for page in pageList:\n",
    "    page_id = page.getElementsByTagName(\"id\")[0].firstChild.nodeValue\n",
    "    page_title = page.getElementsByTagName(\"title\")[0].firstChild.nodeValue\n",
    "    \n",
    "    text = page.getElementsByTagName(\"text\")[0].firstChild.nodeValue\n",
    "    page_text = Wiki2Text.getOriginalSentences(text)\n",
    "    \n",
    "    text_list = Wiki2Text.getSentencesFromText(page_text)\n",
    "    \n",
    "    for sentence in text_list:\n",
    "        satz = ''.join(sentence)\n",
    "        myQuery = \"INSERT INTO \"+ table +\" (id, page_id, page_title, page_sentence) VALUES (now(),\"+page_id+\",'\"+page_title+\"', '\"+satz+\"');\"\n",
    "        try:\n",
    "            session.execute(myQuery)\n",
    "        except:\n",
    "            pass\n",
    "    "
   ]
  },
  {
   "cell_type": "code",
   "execution_count": null,
   "metadata": {},
   "outputs": [],
   "source": []
  }
 ],
 "metadata": {
  "kernelspec": {
   "display_name": "Python 3",
   "language": "python",
   "name": "python3"
  },
  "language_info": {
   "codemirror_mode": {
    "name": "ipython",
    "version": 3
   },
   "file_extension": ".py",
   "mimetype": "text/x-python",
   "name": "python",
   "nbconvert_exporter": "python",
   "pygments_lexer": "ipython3",
   "version": "3.6.5"
  }
 },
 "nbformat": 4,
 "nbformat_minor": 2
}
